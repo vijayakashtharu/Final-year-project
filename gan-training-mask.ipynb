{
 "cells": [
  {
   "cell_type": "code",
   "execution_count": 1,
   "id": "be83cb9a",
   "metadata": {
    "execution": {
     "iopub.execute_input": "2022-11-11T15:22:46.654838Z",
     "iopub.status.busy": "2022-11-11T15:22:46.654008Z",
     "iopub.status.idle": "2022-11-11T15:23:18.993341Z",
     "shell.execute_reply": "2022-11-11T15:23:18.990598Z"
    },
    "papermill": {
     "duration": 32.348979,
     "end_time": "2022-11-11T15:23:18.997332",
     "exception": false,
     "start_time": "2022-11-11T15:22:46.648353",
     "status": "completed"
    },
    "tags": []
   },
   "outputs": [
    {
     "name": "stdout",
     "output_type": "stream",
     "text": [
      "(4501, 128, 128, 1)\n"
     ]
    }
   ],
   "source": [
    "import cv2, numpy as np\n",
    "import os\n",
    "import glob\n",
    "from numpy import asarray\n",
    "\n",
    "input_folder = '../input/with-without-mask/WithMask'\n",
    "\n",
    "\n",
    "i = 0 \n",
    "array = [];\n",
    "for img in glob.glob(input_folder + \"/*.png\"):\n",
    "    image = cv2.imread(img)\n",
    "    image = cv2.resize(image , (128 , 128))\n",
    "    image = cv2.cvtColor(image, cv2.COLOR_RGB2GRAY)\n",
    "    image = np.expand_dims(image, axis = -1)\n",
    "    numpyimg = asarray(image)\n",
    "    array.append(numpyimg)\n",
    "    \n",
    "#     cv2.imwrite(\"compress_without_mask/image%04i.png\" %i, imgResize  )\n",
    "    \n",
    "#     i += 1\n",
    "#     cv2.imshow('image' , imgResize)\n",
    "#     cv2.waitKey(30)\n",
    "# cv2.destroyAllWindos()\n",
    "x = asarray(array)\n",
    "print(x.shape)"
   ]
  },
  {
   "cell_type": "code",
   "execution_count": 2,
   "id": "aa5c48c6",
   "metadata": {
    "execution": {
     "iopub.execute_input": "2022-11-11T15:23:19.004184Z",
     "iopub.status.busy": "2022-11-11T15:23:19.003776Z",
     "iopub.status.idle": "2022-11-11T15:23:50.548588Z",
     "shell.execute_reply": "2022-11-11T15:23:50.546794Z"
    },
    "papermill": {
     "duration": 31.551767,
     "end_time": "2022-11-11T15:23:50.551716",
     "exception": false,
     "start_time": "2022-11-11T15:23:18.999949",
     "status": "completed"
    },
    "tags": []
   },
   "outputs": [
    {
     "name": "stdout",
     "output_type": "stream",
     "text": [
      "(4501, 128, 128, 1)\n"
     ]
    }
   ],
   "source": [
    "input_folder = '../input/with-without-mask/WithOutMask'\n",
    "\n",
    "array = [];\n",
    "for img in glob.glob(input_folder + \"/*.png\"):\n",
    "    image = cv2.imread(img)\n",
    "    image = cv2.resize(image , (128 , 128))\n",
    "    image = cv2.cvtColor(image, cv2.COLOR_RGB2GRAY)\n",
    "    image = np.expand_dims(image, axis = -1)\n",
    "    numpyimg = asarray(image)\n",
    "    array.append(numpyimg)\n",
    "    \n",
    "\n",
    "y = asarray(array)\n",
    "print(y.shape)"
   ]
  },
  {
   "cell_type": "code",
   "execution_count": 3,
   "id": "ea963661",
   "metadata": {
    "execution": {
     "iopub.execute_input": "2022-11-11T15:23:50.558733Z",
     "iopub.status.busy": "2022-11-11T15:23:50.557774Z",
     "iopub.status.idle": "2022-11-11T15:23:50.733967Z",
     "shell.execute_reply": "2022-11-11T15:23:50.732841Z"
    },
    "papermill": {
     "duration": 0.182532,
     "end_time": "2022-11-11T15:23:50.736684",
     "exception": false,
     "start_time": "2022-11-11T15:23:50.554152",
     "status": "completed"
    },
    "tags": []
   },
   "outputs": [],
   "source": [
    "import pickle\n",
    "file_name='with_out_mask.pickle'\n",
    "f = open(file_name,'wb')\n",
    "pickle.dump(y,f)\n",
    "f.close()"
   ]
  },
  {
   "cell_type": "code",
   "execution_count": null,
   "id": "03a5a143",
   "metadata": {
    "papermill": {
     "duration": 0.001949,
     "end_time": "2022-11-11T15:23:50.741275",
     "exception": false,
     "start_time": "2022-11-11T15:23:50.739326",
     "status": "completed"
    },
    "tags": []
   },
   "outputs": [],
   "source": []
  }
 ],
 "metadata": {
  "kernelspec": {
   "display_name": "Python 3",
   "language": "python",
   "name": "python3"
  },
  "language_info": {
   "codemirror_mode": {
    "name": "ipython",
    "version": 3
   },
   "file_extension": ".py",
   "mimetype": "text/x-python",
   "name": "python",
   "nbconvert_exporter": "python",
   "pygments_lexer": "ipython3",
   "version": "3.7.12"
  },
  "papermill": {
   "default_parameters": {},
   "duration": 73.864058,
   "end_time": "2022-11-11T15:23:51.570822",
   "environment_variables": {},
   "exception": null,
   "input_path": "__notebook__.ipynb",
   "output_path": "__notebook__.ipynb",
   "parameters": {},
   "start_time": "2022-11-11T15:22:37.706764",
   "version": "2.3.4"
  }
 },
 "nbformat": 4,
 "nbformat_minor": 5
}
